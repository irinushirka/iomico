{
 "cells": [
  {
   "cell_type": "code",
   "execution_count": 117,
   "metadata": {},
   "outputs": [],
   "source": [
    "from random import randint, shuffle\n",
    "import os"
   ]
  },
  {
   "cell_type": "code",
   "execution_count": 118,
   "metadata": {},
   "outputs": [],
   "source": [
    "total = 788 # total amount if images (jpg + xml)\n",
    "test_percent = 0.2 # 20% test and 80% train\n",
    "test_amount = round(test_percent * total / 2)\n",
    "train_amount = total - test_amount"
   ]
  },
  {
   "cell_type": "code",
   "execution_count": 119,
   "metadata": {},
   "outputs": [
    {
     "data": {
      "text/plain": [
       "'C:\\\\Users\\\\1\\\\Desktop\\\\Dataset Byte\\\\All Frames'"
      ]
     },
     "execution_count": 119,
     "metadata": {},
     "output_type": "execute_result"
    }
   ],
   "source": [
    "PATH = os.getcwd()\n",
    "PATH"
   ]
  },
  {
   "cell_type": "code",
   "execution_count": 120,
   "metadata": {},
   "outputs": [],
   "source": [
    "# dir where are all the frames\n",
    "lbl_dir = 'C:\\\\Users\\\\1\\\\Desktop\\\\Dataset Byte\\\\All Frames\\\\'\n",
    "os.chdir(lbl_dir)\n",
    "# dir to train folder\n",
    "train_dir = 'C:\\\\Users\\\\1\\\\Desktop\\\\Dataset Byte\\\\Train'\n",
    "# dir to test folder\n",
    "test_dir = 'C:\\\\Users\\\\1\\\\Desktop\\\\Dataset Byte\\\\Test'"
   ]
  },
  {
   "cell_type": "code",
   "execution_count": 124,
   "metadata": {},
   "outputs": [
    {
     "data": {
      "text/plain": [
       "0"
      ]
     },
     "execution_count": 124,
     "metadata": {},
     "output_type": "execute_result"
    }
   ],
   "source": [
    "os.chdir(lbl_dir)\n",
    "jpg_dirs = os.listdir(lbl_dir)\n",
    "jpg_dirs = [i for i in jpg_dirs if i.endswith('.jpg')]\n",
    "len(jpg_dirs)"
   ]
  },
  {
   "cell_type": "code",
   "execution_count": 125,
   "metadata": {},
   "outputs": [],
   "source": [
    "shuffle(jpg_dirs)\n",
    "test = jpg_dirs[:test_amount]\n",
    "train = jpg_dirs[test_amount:]"
   ]
  },
  {
   "cell_type": "code",
   "execution_count": 126,
   "metadata": {},
   "outputs": [
    {
     "data": {
      "text/plain": [
       "(0, 0)"
      ]
     },
     "execution_count": 126,
     "metadata": {},
     "output_type": "execute_result"
    }
   ],
   "source": [
    "len(test), len(train)"
   ]
  },
  {
   "cell_type": "code",
   "execution_count": 114,
   "metadata": {},
   "outputs": [
    {
     "name": "stdout",
     "output_type": "stream",
     "text": [
      "frame7_60.jpg\n",
      "frame7_345.jpg\n",
      "frame6_615.jpg\n",
      "frame5_210.jpg\n",
      "frame8_375.jpg\n",
      "frame4_1035.jpg\n",
      "frame8_285.jpg\n",
      "frame8_120.jpg\n",
      "Testframe1_315.jpg\n",
      "frame0_795.jpg\n",
      "frame6_285.jpg\n",
      "frame8_180.jpg\n",
      "frame5_420.jpg\n",
      "Testframe4_435.jpg\n",
      "frame7_210.jpg\n",
      "frame0_645.jpg\n",
      "frame7_315.jpg\n",
      "Testframe0_105.jpg\n",
      "frame1_240.jpg\n",
      "frame4_495.jpg\n",
      "frame1_540.jpg\n",
      "frame1_15.jpg\n",
      "frame0_735.jpg\n",
      "frame4_1215.jpg\n",
      "Testframe3_315.jpg\n",
      "frame6_405.jpg\n",
      "frame4_795.jpg\n",
      "Testframe3_150.jpg\n",
      "frame0_915.jpg\n",
      "Testframe4_180.jpg\n",
      "frame8_570.jpg\n",
      "frame7_300.jpg\n",
      "Testframe4_300.jpg\n",
      "Testframe0_120.jpg\n",
      "frame4_660.jpg\n",
      "frame4_150.jpg\n",
      "frame5_240.jpg\n",
      "frame0_570.jpg\n",
      "frame4_915.jpg\n",
      "frame1_435.jpg\n",
      "frame8_615.jpg\n",
      "frame4_690.jpg\n",
      "frame4_1230.jpg\n",
      "frame6_45.jpg\n",
      "frame5_165.jpg\n",
      "Testframe4_0.jpg\n",
      "frame8_645.jpg\n",
      "frame4_1110.jpg\n",
      "frame6_180.jpg\n",
      "frame7_240.jpg\n",
      "frame5_480.jpg\n",
      "frame0_495.jpg\n",
      "frame1_480.jpg\n",
      "frame4_705.jpg\n",
      "frame8_345.jpg\n",
      "frame0_600.jpg\n",
      "frame7_135.jpg\n",
      "frame7_150.jpg\n",
      "frame1_30.jpg\n",
      "frame4_270.jpg\n",
      "frame7_45.jpg\n",
      "frame6_255.jpg\n",
      "frame6_30.jpg\n",
      "frame5_345.jpg\n",
      "frame6_225.jpg\n",
      "Testframe0_240.jpg\n",
      "frame5_285.jpg\n",
      "Testframe1_285.jpg\n",
      "frame7_120.jpg\n",
      "frame1_495.jpg\n",
      "frame2_120.jpg\n",
      "Testframe3_30.jpg\n",
      "frame8_420.jpg\n",
      "frame4_1350.jpg\n",
      "frame5_330.jpg\n",
      "frame8_660.jpg\n",
      "frame0_420.jpg\n",
      "frame7_105.jpg\n",
      "frame4_1140.jpg\n"
     ]
    }
   ],
   "source": [
    "for i in test:\n",
    "    img_path = f'{lbl_dir}{i}'\n",
    "    print(i)"
   ]
  },
  {
   "cell_type": "code",
   "execution_count": 115,
   "metadata": {},
   "outputs": [],
   "source": [
    "for i in test:\n",
    "    img_path = f'{lbl_dir}{i}'\n",
    "    xml_path = img_path[:len(img_path) - 3] + 'xml'\n",
    "    os.rename(img_path, test_dir + '\\\\' + i)\n",
    "    os.rename(xml_path, test_dir + '\\\\' + i[:len(i) - 3] + 'xml')"
   ]
  },
  {
   "cell_type": "code",
   "execution_count": 116,
   "metadata": {},
   "outputs": [],
   "source": [
    "for i in train:\n",
    "    img_path = f'{lbl_dir}{i}'\n",
    "    xml_path = img_path[:len(img_path) - 3] + 'xml'\n",
    "    os.rename(img_path, train_dir + '\\\\' + i)\n",
    "    os.rename(xml_path, train_dir + '\\\\' + i[:len(i) - 3] + 'xml')"
   ]
  },
  {
   "cell_type": "code",
   "execution_count": null,
   "metadata": {},
   "outputs": [],
   "source": []
  }
 ],
 "metadata": {
  "kernelspec": {
   "display_name": "Python 3",
   "language": "python",
   "name": "python3"
  },
  "language_info": {
   "codemirror_mode": {
    "name": "ipython",
    "version": 3
   },
   "file_extension": ".py",
   "mimetype": "text/x-python",
   "name": "python",
   "nbconvert_exporter": "python",
   "pygments_lexer": "ipython3",
   "version": "3.6.12"
  }
 },
 "nbformat": 4,
 "nbformat_minor": 4
}
